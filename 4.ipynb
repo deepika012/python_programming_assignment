{
 "cells": [
  {
   "cell_type": "code",
   "execution_count": 3,
   "id": "35077702-fa27-4797-a871-44dd0ee550db",
   "metadata": {},
   "outputs": [
    {
     "name": "stdin",
     "output_type": "stream",
     "text": [
      "enter the number to find factorila 5\n"
     ]
    },
    {
     "name": "stdout",
     "output_type": "stream",
     "text": [
      "the factorial of 5 is 120\n"
     ]
    }
   ],
   "source": [
    "#1. Write a Python Program to Find the Factorial of a Number?\n",
    "\n",
    "n = int(input(\"enter the number to find factorila\"))\n",
    "fact=1\n",
    "for i in range(1,n+1):\n",
    "    fact = fact*i\n",
    "    i=i+1\n",
    "    \n",
    "print(\"the factorial of\",n,\"is\",fact)\n",
    "    "
   ]
  },
  {
   "cell_type": "code",
   "execution_count": 2,
   "id": "97d58353-993b-425e-b4ef-0d3fe6c21426",
   "metadata": {},
   "outputs": [
    {
     "name": "stdin",
     "output_type": "stream",
     "text": [
      "enter the number to print the table 5\n"
     ]
    },
    {
     "name": "stdout",
     "output_type": "stream",
     "text": [
      "5 * 1 = 5\n",
      "5 * 2 = 10\n",
      "5 * 3 = 15\n",
      "5 * 4 = 20\n",
      "5 * 5 = 25\n",
      "5 * 6 = 30\n",
      "5 * 7 = 35\n",
      "5 * 8 = 40\n",
      "5 * 9 = 45\n",
      "5 * 10 = 50\n"
     ]
    }
   ],
   "source": [
    "#2. Write a Python Program to Display the multiplication Table?\n",
    "n=int(input(\"enter the number to print the table\"))\n",
    "for i in range(1,11):\n",
    "    print(n,\"*\",i ,\"=\",n*i)\n",
    "    i=i+1\n",
    "\n",
    "    \n",
    "    "
   ]
  },
  {
   "cell_type": "code",
   "execution_count": null,
   "id": "9a76faa3-6a4d-4608-847e-ab08ac9cc986",
   "metadata": {},
   "outputs": [],
   "source": [
    "#3. Write a Python Program to Print the Fibonacci sequence?\n",
    "#It is a series where third element is the sum of first two elements and it starts with 0\n",
    "\n",
    "n = int(input(\"enter the tottal number of elements to print in series\"))\n",
    "a = 0\n",
    "b = 1\n",
    "for i in range(n):\n",
    "    print(a)\n",
    "    c=a+b\n",
    "    a=b\n",
    "    b=c\n",
    "    i+1\n",
    "    \n",
    "        \n",
    "        \n",
    "            \n",
    "        \n"
   ]
  },
  {
   "cell_type": "code",
   "execution_count": 13,
   "id": "f5f67451-d020-42ba-986f-2357d2c1b2dd",
   "metadata": {},
   "outputs": [
    {
     "name": "stdin",
     "output_type": "stream",
     "text": [
      "enter the number 407\n"
     ]
    },
    {
     "name": "stdout",
     "output_type": "stream",
     "text": [
      "407 is armstrong  number\n"
     ]
    }
   ],
   "source": [
    "#4. Write a Python Program to Check Armstrong Number?\n",
    "\n",
    "num = int(input(\"enter the number\"))\n",
    "str_len = len(str(num))\n",
    "temp = num\n",
    "sum = 0\n",
    "\n",
    "while temp>0:\n",
    "    digit = temp%10\n",
    "    sum = sum+(digit**str_len)\n",
    "    temp//=10\n",
    "if num == sum :\n",
    "    print(num, \"is armstrong  number\")\n",
    "else:\n",
    "    print(n,\"is not a armstrong number\")\n"
   ]
  },
  {
   "cell_type": "code",
   "execution_count": 27,
   "id": "cd01013f-fe1e-4dd8-a2fa-0f27f00bdf08",
   "metadata": {},
   "outputs": [
    {
     "name": "stdout",
     "output_type": "stream",
     "text": [
      "enter the lower and higher value of interval\n"
     ]
    },
    {
     "name": "stdin",
     "output_type": "stream",
     "text": [
      " 100\n",
      " 1000\n"
     ]
    },
    {
     "name": "stdout",
     "output_type": "stream",
     "text": [
      "153\n",
      "370\n",
      "371\n",
      "407\n"
     ]
    }
   ],
   "source": [
    "# 5. Write a Python Program to Find Armstrong Number in an Interval?\n",
    "print(\"enter the lower and higher value of interval\")\n",
    "a = int(input())\n",
    "b = int(input())\n",
    "for num in range(a,b+1):\n",
    "    str_len = len(str(num))\n",
    "    temp = num\n",
    "    sum = 0 \n",
    "    \n",
    "    while temp>0:\n",
    "        digit = temp%10\n",
    "        sum = sum + (digit**str_len)\n",
    "        temp//=10\n",
    "    if num == sum :\n",
    "        print(num)\n",
    "    \n",
    "    \n",
    "    \n",
    "    "
   ]
  },
  {
   "cell_type": "code",
   "execution_count": 15,
   "id": "7abdd54a-59ac-4e70-a002-8384394f15c9",
   "metadata": {},
   "outputs": [
    {
     "name": "stdin",
     "output_type": "stream",
     "text": [
      "enter the number of natural number to find sum 6\n"
     ]
    },
    {
     "name": "stdout",
     "output_type": "stream",
     "text": [
      "the sum of 6 natural number is 21\n"
     ]
    }
   ],
   "source": [
    "#6. Write a Python Program to Find the Sum of Natural Numbers?\n",
    "n = int(input(\"enter the number of natural number to find sum\" ))\n",
    "sum =0 \n",
    "if n<0:\n",
    "    print(\"enter positive integer\")\n",
    "else:    \n",
    "    for i in range (1,n+1):\n",
    "        sum = sum + i\n",
    "        i = i+1\n",
    "print(\"the sum of\",n,\"natural number is\",sum) "
   ]
  },
  {
   "cell_type": "code",
   "execution_count": null,
   "id": "a54ed0ac-c587-473b-89c9-4d63944c30c0",
   "metadata": {},
   "outputs": [],
   "source": []
  },
  {
   "cell_type": "code",
   "execution_count": 24,
   "id": "d7f92fa0-a144-4eef-9ca0-2d187630c422",
   "metadata": {},
   "outputs": [
    {
     "name": "stdout",
     "output_type": "stream",
     "text": [
      "150\n",
      "151\n",
      "152\n",
      "153\n",
      "154\n",
      "155\n",
      "156\n",
      "157\n",
      "158\n",
      "159\n"
     ]
    }
   ],
   "source": [
    "for i in range (150,160):\n",
    "     print(i)"
   ]
  },
  {
   "cell_type": "code",
   "execution_count": null,
   "id": "903c02c5-2425-4d0b-b189-ebf1301f5a00",
   "metadata": {},
   "outputs": [],
   "source": []
  }
 ],
 "metadata": {
  "kernelspec": {
   "display_name": "Python 3 (ipykernel)",
   "language": "python",
   "name": "python3"
  },
  "language_info": {
   "codemirror_mode": {
    "name": "ipython",
    "version": 3
   },
   "file_extension": ".py",
   "mimetype": "text/x-python",
   "name": "python",
   "nbconvert_exporter": "python",
   "pygments_lexer": "ipython3",
   "version": "3.9.12"
  }
 },
 "nbformat": 4,
 "nbformat_minor": 5
}
