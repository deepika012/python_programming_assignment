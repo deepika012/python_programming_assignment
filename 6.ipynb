{
 "cells": [
  {
   "cell_type": "code",
   "execution_count": 1,
   "id": "c6a131c6-fbfd-42f8-a5a6-c76632a08930",
   "metadata": {},
   "outputs": [
    {
     "name": "stdin",
     "output_type": "stream",
     "text": [
      "enter number 5\n"
     ]
    },
    {
     "name": "stdout",
     "output_type": "stream",
     "text": [
      "0\n",
      "1\n",
      "1\n",
      "2\n",
      "3\n"
     ]
    }
   ],
   "source": [
    "#1. Write a Python Program to Display Fibonacci Sequence Using Recursion?\n",
    "def fib(n):\n",
    "    if n<=1:\n",
    "        return n\n",
    "    else:\n",
    "        return(fib(n-1)+fib(n-2))\n",
    "\n",
    "num = int(input(\"enter number\"))\n",
    "for i in range(num):\n",
    "    print(fib(i))"
   ]
  },
  {
   "cell_type": "code",
   "execution_count": 3,
   "id": "8b9a401a-7516-463b-8477-b3e2268e550c",
   "metadata": {},
   "outputs": [
    {
     "name": "stdin",
     "output_type": "stream",
     "text": [
      "enter number to find factorial 5\n"
     ]
    },
    {
     "name": "stdout",
     "output_type": "stream",
     "text": [
      "the factorial of 5 is  120\n"
     ]
    }
   ],
   "source": [
    "#2. Write a Python Program to Find Factorial of Number Using Recursion?\n",
    "\n",
    "def fact_recursive(n):\n",
    "    if n == 1 :\n",
    "        return 1\n",
    "    else :\n",
    "        return n* fact_recursive(n-1)\n",
    "num = int(input(\"enter number to find factorial\"))\n",
    "if num<0:\n",
    "    print(\"negative number is not allowed\")\n",
    "elif num ==0 :\n",
    "    print (\"1\")\n",
    "else:\n",
    "    print(f\"the factorial of {num} is \" , fact_recursive(num))"
   ]
  },
  {
   "cell_type": "code",
   "execution_count": 9,
   "id": "05034c93-71ef-4744-9007-b963e2f98455",
   "metadata": {},
   "outputs": [
    {
     "name": "stdin",
     "output_type": "stream",
     "text": [
      "enter the height in meter 1.5\n",
      "enter the weight in kg 78\n"
     ]
    },
    {
     "name": "stdout",
     "output_type": "stream",
     "text": [
      "34.666666666666664. overweight\n"
     ]
    }
   ],
   "source": [
    "#3. Write a Python Program to calculate your Body Mass Index?\n",
    "\n",
    "height = float(input(\"enter the height in meter\"))\n",
    "weight = float(input(\"enter the weight in kg\"))\n",
    "index = (weight / (height*height))\n",
    "\n",
    "if index < 18.5 :\n",
    "    print(f\"{index}, underweight\")\n",
    "elif index>18.5 and index <24.9 :\n",
    "    print(f\"{index} , healthy\")\n",
    "elif index > 25 :\n",
    "    print(f\"{index}. overweight\")\n",
    "else :\n",
    "    print(f\"{index}, obese\")"
   ]
  },
  {
   "cell_type": "code",
   "execution_count": 11,
   "id": "c65be9d6-6042-4c5a-88d9-889e1e511083",
   "metadata": {},
   "outputs": [
    {
     "name": "stdin",
     "output_type": "stream",
     "text": [
      "enter number 15\n"
     ]
    },
    {
     "name": "stdout",
     "output_type": "stream",
     "text": [
      "the lof of 15 is  2.70805020110221\n"
     ]
    }
   ],
   "source": [
    "#4. Write a Python Program to calculate the natural logarithm of any number?\n",
    "import math\n",
    "n = int(input(\"enter number\"))\n",
    "is_log = math.log(n)\n",
    "print(f\"the lof of {n} is \", is_log)"
   ]
  },
  {
   "cell_type": "code",
   "execution_count": 14,
   "id": "c780240e-f131-411f-a44f-c1392808fa1b",
   "metadata": {},
   "outputs": [
    {
     "name": "stdin",
     "output_type": "stream",
     "text": [
      "enter the number 10\n"
     ]
    },
    {
     "name": "stdout",
     "output_type": "stream",
     "text": [
      "3025\n"
     ]
    }
   ],
   "source": [
    "#5. Write a Python Program for cube sum of first n natural numbers?\n",
    "\n",
    "n = int(input(\"enter the number\"))\n",
    "sum = 0\n",
    "for i in range (1,n+1):\n",
    "    sum = sum + (i*i*i)\n",
    "    i= i+1\n",
    "print(sum)\n",
    "    "
   ]
  },
  {
   "cell_type": "code",
   "execution_count": null,
   "id": "9c45ce10-d3be-483f-99df-2a3e8d0c94a5",
   "metadata": {},
   "outputs": [],
   "source": []
  }
 ],
 "metadata": {
  "kernelspec": {
   "display_name": "Python 3 (ipykernel)",
   "language": "python",
   "name": "python3"
  },
  "language_info": {
   "codemirror_mode": {
    "name": "ipython",
    "version": 3
   },
   "file_extension": ".py",
   "mimetype": "text/x-python",
   "name": "python",
   "nbconvert_exporter": "python",
   "pygments_lexer": "ipython3",
   "version": "3.9.12"
  }
 },
 "nbformat": 4,
 "nbformat_minor": 5
}
