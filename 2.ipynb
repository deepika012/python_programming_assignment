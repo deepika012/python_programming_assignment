{
 "cells": [
  {
   "cell_type": "code",
   "execution_count": 3,
   "id": "35f494bb-4e2e-4b59-8aaf-bed96d03031b",
   "metadata": {},
   "outputs": [
    {
     "name": "stdin",
     "output_type": "stream",
     "text": [
      "enter the number in kiometer 8\n"
     ]
    },
    {
     "name": "stdout",
     "output_type": "stream",
     "text": [
      "the conversion of 8 km into m is 8000\n"
     ]
    }
   ],
   "source": [
    "#1. Write a Python program to convert kilometers to miles?\n",
    "\n",
    "a = input(\"enter the number in kiometer\")\n",
    "b = 1000*int(a)\n",
    "print(\"the conversion of\",a,\"km into m is\",b)"
   ]
  },
  {
   "cell_type": "code",
   "execution_count": 7,
   "id": "bd56655c-c0bd-47ba-9ce2-300e96ec76ee",
   "metadata": {},
   "outputs": [
    {
     "name": "stdin",
     "output_type": "stream",
     "text": [
      "enter the temperature in celcius 36\n"
     ]
    },
    {
     "name": "stdout",
     "output_type": "stream",
     "text": [
      "the temperature in faenhite is 96.8 F\n"
     ]
    }
   ],
   "source": [
    "#2. Write a Python program to convert Celsius to Fahrenheit?\n",
    "\n",
    "C = input(\"enter the temperature in celcius\")\n",
    "c = float(C)\n",
    "f = (c*(9/5)) + 32\n",
    "print(\"the temperature in faenhite is\",f,\"F\")"
   ]
  },
  {
   "cell_type": "code",
   "execution_count": 11,
   "id": "e1711a55-514d-4d01-b598-7381a44e9a94",
   "metadata": {},
   "outputs": [
    {
     "name": "stdin",
     "output_type": "stream",
     "text": [
      "enter the year 2022\n",
      "enter name of the month 9\n"
     ]
    },
    {
     "name": "stdout",
     "output_type": "stream",
     "text": [
      "   September 2022\n",
      "Mo Tu We Th Fr Sa Su\n",
      "          1  2  3  4\n",
      " 5  6  7  8  9 10 11\n",
      "12 13 14 15 16 17 18\n",
      "19 20 21 22 23 24 25\n",
      "26 27 28 29 30\n",
      "\n"
     ]
    }
   ],
   "source": [
    "#3. Write a Python program to display calendar?\n",
    "import calendar\n",
    "\n",
    "year_num = int(input(\"enter the year\"))\n",
    "month_num =int(input(\"enter name of the month\"))\n",
    "print(calendar.month(year_num,month_num))"
   ]
  },
  {
   "cell_type": "code",
   "execution_count": 27,
   "id": "9bccd29d-5fbe-4c5e-9966-63a4f6e77120",
   "metadata": {},
   "outputs": [
    {
     "name": "stdin",
     "output_type": "stream",
     "text": [
      "enter the cofficient of x**2 and a!= 0 7\n",
      "enter the coefficient of x -4\n",
      "enter the constant of the equation 5\n"
     ]
    },
    {
     "name": "stdout",
     "output_type": "stream",
     "text": [
      "The discriminant -124 is less than 0\n",
      "The two distinct complex roots are (0.2857142857142857-0.7953949089757174j) (0.2857142857142857+0.7953949089757174j)\n"
     ]
    }
   ],
   "source": [
    "#4. Write a Python program to solve quadratic equation?\n",
    "import cmath\n",
    "\n",
    "a = int(input(\"enter the cofficient of x**2 and a!= 0\"))\n",
    "b = int(input(\"enter the coefficient of x\"))\n",
    "c = int(input(\"enter the constant of the equation\"))\n",
    "\n",
    "dis = (b**2)-(4*a*c)\n",
    "\n",
    "root1 = ((-b-cmath.sqrt(dis))/(2*a))\n",
    "root2 = ((-b+cmath.sqrt(dis))/(2*a))\n",
    "\n",
    "if dis>0:\n",
    "    print(\"The discriminant\" , dis , \"is greater than 0\")\n",
    "    print(\"The two distinct real roots are\" ,root1,root2)\n",
    "    \n",
    "elif dis==0:\n",
    "    print(\"The discriminant\" , dis , \"is equal to 0\")\n",
    "    print(\"The two same real roots are\" ,root1,root2)\n",
    "    \n",
    "if dis<0:\n",
    "    print(\"The discriminant\" , dis , \"is less than 0\")\n",
    "    print(\"There will be two distinct complex roots. There will be no real roots)\n"
   ]
  },
  {
   "cell_type": "code",
   "execution_count": null,
   "id": "9272f85c-e8df-46b9-bc51-2336410c0990",
   "metadata": {},
   "outputs": [
    {
     "name": "stdin",
     "output_type": "stream",
     "text": [
      "enter value of a 40\n"
     ]
    }
   ],
   "source": [
    "#5. Write a Python program to swap two variables without temp variable\n",
    "a = int(input(\"enter value of a\"))\n",
    "b = int(input(\"enter value of b\"))\n",
    "\n",
    "\n",
    "a = a+b\n",
    "b = a-b\n",
    "a = a-b\n",
    "print(a)\n",
    "print(b)"
   ]
  },
  {
   "cell_type": "code",
   "execution_count": null,
   "id": "2e213382-7343-484a-9107-9830679077e0",
   "metadata": {},
   "outputs": [],
   "source": []
  }
 ],
 "metadata": {
  "kernelspec": {
   "display_name": "Python 3 (ipykernel)",
   "language": "python",
   "name": "python3"
  },
  "language_info": {
   "codemirror_mode": {
    "name": "ipython",
    "version": 3
   },
   "file_extension": ".py",
   "mimetype": "text/x-python",
   "name": "python",
   "nbconvert_exporter": "python",
   "pygments_lexer": "ipython3",
   "version": "3.9.12"
  }
 },
 "nbformat": 4,
 "nbformat_minor": 5
}
