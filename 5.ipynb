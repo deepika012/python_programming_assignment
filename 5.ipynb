{
 "cells": [
  {
   "cell_type": "code",
   "execution_count": 8,
   "id": "aff37807-837f-4617-878c-90cdc517392e",
   "metadata": {},
   "outputs": [
    {
     "name": "stdin",
     "output_type": "stream",
     "text": [
      "enter number 12\n",
      "enter number 18\n"
     ]
    },
    {
     "name": "stdout",
     "output_type": "stream",
     "text": [
      "the lcm of 12 and 18 is 36 \n"
     ]
    }
   ],
   "source": [
    "#1. Write a Python Program to Find LCM?\n",
    "a = int(input(\"enter number\"))\n",
    "b = int(input(\"enter number\"))\n",
    "\n",
    "maxnum = max(a,b)\n",
    "while True :\n",
    "    if maxnum%a == 0 and maxnum%b == 0:\n",
    "        print(f\"the lcm of {a} and {b} is {maxnum} \")\n",
    "        break\n",
    "    else:\n",
    "        maxnum = maxnum +1"
   ]
  },
  {
   "cell_type": "code",
   "execution_count": 23,
   "id": "014688ef-1414-4fb7-8de2-11d3b3239364",
   "metadata": {},
   "outputs": [
    {
     "name": "stdin",
     "output_type": "stream",
     "text": [
      "enter number 18\n",
      "enter number 54\n"
     ]
    },
    {
     "name": "stdout",
     "output_type": "stream",
     "text": [
      "the hcf of 18 and 54 is 18\n"
     ]
    }
   ],
   "source": [
    "#2. Write a Python Program to Find HCF?\n",
    "\n",
    "a = int(input(\"enter number\"))\n",
    "b = int(input(\"enter number\"))\n",
    "\n",
    "minnum = min(a,b)\n",
    "\n",
    "for i in range(1,minnum+1):\n",
    "    if a%i == 0 and b%i == 0:\n",
    "         hcf = i\n",
    "print(f\"the hcf of {a} and {b} is {hcf}\")"
   ]
  },
  {
   "cell_type": "code",
   "execution_count": 25,
   "id": "897849a1-aef6-4c79-9ea2-5ea62cd57f90",
   "metadata": {},
   "outputs": [
    {
     "name": "stdin",
     "output_type": "stream",
     "text": [
      "enter a decimal number 25\n"
     ]
    },
    {
     "name": "stdout",
     "output_type": "stream",
     "text": [
      "0b11001 is a binarry form\n",
      "0o31 is a octal form\n",
      "0x19 is a hexadecimal form\n"
     ]
    }
   ],
   "source": [
    "#3. Write a Python Program to Convert Decimal to Binary, Octal and Hexadecimal?\n",
    "\n",
    "num = int(input(\"enter a decimal number\"))\n",
    "\n",
    "\n",
    "print(bin(num) , \"is a binarry form\")\n",
    "print(oct(num) , \"is a octal form\")\n",
    "print(hex(num) , \"is a hexadecimal form\")"
   ]
  },
  {
   "cell_type": "code",
   "execution_count": 27,
   "id": "87c1e3ab-a71b-46ad-81c9-c2801fe0ebbd",
   "metadata": {},
   "outputs": [
    {
     "name": "stdin",
     "output_type": "stream",
     "text": [
      "enter a character to find the ASCII value p\n"
     ]
    },
    {
     "name": "stdout",
     "output_type": "stream",
     "text": [
      "112\n"
     ]
    }
   ],
   "source": [
    "#4. Write a Python Program To Find ASCII value of a character?\n",
    "num = input(\"enter a character to find the ASCII value\")\n",
    "print(ord(num))\n"
   ]
  },
  {
   "cell_type": "code",
   "execution_count": 2,
   "id": "54240cab-8c78-4ef8-a21f-0b22c1be64fb",
   "metadata": {},
   "outputs": [
    {
     "name": "stdout",
     "output_type": "stream",
     "text": [
      "enter two number\n"
     ]
    },
    {
     "name": "stdin",
     "output_type": "stream",
     "text": [
      " 23\n",
      " 45\n",
      "Now,choose which operation to perform and enter respective number\n",
      " 1-ADDITION \n",
      " 2-SUBSTRACTION \n",
      " 3-DIVISION \n",
      " 4-MULTIPLICATION \n",
      " 2\n"
     ]
    },
    {
     "name": "stdout",
     "output_type": "stream",
     "text": [
      "-22\n"
     ]
    }
   ],
   "source": [
    "#5. Write a Python Program to Make a Simple Calculator with 4 basic mathematical operations?\n",
    "\n",
    "print(\"enter two number\")\n",
    "a = int(input())\n",
    "b=int(input())\n",
    "choice = input(\"Now,choose which operation to perform and enter respective number\"\n",
    "      \"\\n 1-ADDITION \\n 2-SUBSTRACTION \\n 3-DIVISION \\n 4-MULTIPLICATION \\n\") \n",
    "\n",
    "if choice == '1' :\n",
    "    print(a+b)\n",
    "elif choice == '2' :\n",
    "    print( a-b)\n",
    "elif choice == '3':\n",
    "    print(a/b)\n",
    "elif choice == '4' :\n",
    "    print( a*b)\n",
    "\n",
    "        "
   ]
  },
  {
   "cell_type": "code",
   "execution_count": null,
   "id": "6eef8064-effb-4630-a58b-8d0bbb7ed950",
   "metadata": {},
   "outputs": [],
   "source": []
  }
 ],
 "metadata": {
  "kernelspec": {
   "display_name": "Python 3 (ipykernel)",
   "language": "python",
   "name": "python3"
  },
  "language_info": {
   "codemirror_mode": {
    "name": "ipython",
    "version": 3
   },
   "file_extension": ".py",
   "mimetype": "text/x-python",
   "name": "python",
   "nbconvert_exporter": "python",
   "pygments_lexer": "ipython3",
   "version": "3.9.12"
  }
 },
 "nbformat": 4,
 "nbformat_minor": 5
}
