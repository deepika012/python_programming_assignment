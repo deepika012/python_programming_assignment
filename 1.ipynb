{
 "cells": [
  {
   "cell_type": "code",
   "execution_count": 1,
   "id": "4982d85d-7ecf-4f48-893b-b98dd4db3f9d",
   "metadata": {},
   "outputs": [
    {
     "name": "stdout",
     "output_type": "stream",
     "text": [
      "Hello Python\n"
     ]
    }
   ],
   "source": [
    "#1. Write a Python program to print \"Hello Python\"?\n",
    "\n",
    "txt = \"Hello Python\"\n",
    "print(txt)"
   ]
  },
  {
   "cell_type": "code",
   "execution_count": 4,
   "id": "d5764b0b-ea44-4d58-a05f-118fd5b37725",
   "metadata": {},
   "outputs": [
    {
     "name": "stdout",
     "output_type": "stream",
     "text": [
      "the sum of a and b is 50\n",
      "the division a by b is 9.0\n"
     ]
    }
   ],
   "source": [
    "#2. Write a Python program to do arithmetical operations addition and division.?\n",
    "a = 45\n",
    "b = 5\n",
    "the_sum = a+b\n",
    "the_div = a/b\n",
    "print(\"the sum of a and b is\" , the_sum)\n",
    "print(\"the division a by b is\" , the_div)"
   ]
  },
  {
   "cell_type": "code",
   "execution_count": 5,
   "id": "a07fcab5-b680-4207-a4c3-f99ebfa58909",
   "metadata": {},
   "outputs": [
    {
     "name": "stdout",
     "output_type": "stream",
     "text": [
      "the area of triangle is  25.0\n"
     ]
    }
   ],
   "source": [
    "#3. Write a Python program to find the area of a triangle?\n",
    "base = 5\n",
    "height = 10\n",
    "area = 0.5*base*height\n",
    "print(\"the area of triangle is \" , area)"
   ]
  },
  {
   "cell_type": "code",
   "execution_count": 7,
   "id": "4190c358-7d8e-49a9-b3a3-adfbb6894dc6",
   "metadata": {},
   "outputs": [
    {
     "name": "stdout",
     "output_type": "stream",
     "text": [
      "89\n",
      "34\n"
     ]
    }
   ],
   "source": [
    "#4. Write a Python program to swap two variables?\n",
    "\n",
    "x=34\n",
    "y=89\n",
    "k=x\n",
    "x=y\n",
    "y=k\n",
    "print(x)\n",
    "print(y)"
   ]
  },
  {
   "cell_type": "code",
   "execution_count": 8,
   "id": "9aa24072-03c2-49b8-983a-bdb7ad3fb2a3",
   "metadata": {},
   "outputs": [
    {
     "ename": "NameError",
     "evalue": "name 'rand' is not defined",
     "output_type": "error",
     "traceback": [
      "\u001b[0;31m---------------------------------------------------------------------------\u001b[0m",
      "\u001b[0;31mNameError\u001b[0m                                 Traceback (most recent call last)",
      "Input \u001b[0;32mIn [8]\u001b[0m, in \u001b[0;36m<cell line: 2>\u001b[0;34m()\u001b[0m\n\u001b[1;32m      1\u001b[0m \u001b[38;5;66;03m#5. Write a Python program to generate a random number?\u001b[39;00m\n\u001b[0;32m----> 2\u001b[0m \u001b[38;5;28mprint\u001b[39m(\u001b[43mrand\u001b[49m\u001b[38;5;241m.\u001b[39mint())\n",
      "\u001b[0;31mNameError\u001b[0m: name 'rand' is not defined"
     ]
    }
   ],
   "source": [
    "#5. Write a Python program to generate a random number?\n",
    "    using sample() method under the module random to generate list of number\n",
    "    \n",
    "    import random\n",
    "    "
   ]
  },
  {
   "cell_type": "code",
   "execution_count": 14,
   "id": "e87d9e18-8868-4f39-ba00-128ab9814481",
   "metadata": {},
   "outputs": [
    {
     "name": "stdout",
     "output_type": "stream",
     "text": [
      "[31, 4, 47, 7, 49]\n"
     ]
    }
   ],
   "source": [
    "import random\n",
    "list = []\n",
    "for i in range(0,5):\n",
    "    n = random.randint(0,50)\n",
    "    list.append(n)\n",
    "print(list)    "
   ]
  },
  {
   "cell_type": "code",
   "execution_count": null,
   "id": "2196987b-536f-41b9-8603-3ebd7bb1e919",
   "metadata": {},
   "outputs": [],
   "source": []
  }
 ],
 "metadata": {
  "kernelspec": {
   "display_name": "Python 3 (ipykernel)",
   "language": "python",
   "name": "python3"
  },
  "language_info": {
   "codemirror_mode": {
    "name": "ipython",
    "version": 3
   },
   "file_extension": ".py",
   "mimetype": "text/x-python",
   "name": "python",
   "nbconvert_exporter": "python",
   "pygments_lexer": "ipython3",
   "version": "3.9.12"
  }
 },
 "nbformat": 4,
 "nbformat_minor": 5
}
