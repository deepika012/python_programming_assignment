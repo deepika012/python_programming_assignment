{
 "cells": [
  {
   "cell_type": "code",
   "execution_count": 3,
   "id": "2d67dfb9-1de3-40c6-bbd7-085239469211",
   "metadata": {},
   "outputs": [
    {
     "name": "stdout",
     "output_type": "stream",
     "text": [
      "The sum of elements inside the array is 57\n"
     ]
    }
   ],
   "source": [
    "#1. Write a Python Program to find sum of array?\n",
    "\n",
    "list1 = [2,4,6,7,8,9,3,4,5,9]\n",
    "sum = 0\n",
    "for i in list1:\n",
    "    sum = sum+i\n",
    "    i = i+1\n",
    "print(\"The sum of elements inside the array is\",sum)\n",
    "    "
   ]
  },
  {
   "cell_type": "code",
   "execution_count": 12,
   "id": "ada95111-b612-4141-a80a-69d878becc82",
   "metadata": {},
   "outputs": [
    {
     "name": "stdout",
     "output_type": "stream",
     "text": [
      "biggest element in array is 99\n"
     ]
    }
   ],
   "source": [
    "#2. Write a Python Program to find largest element in an array?\n",
    "\n",
    "list1 = [34,67,89,45,23,99,56]\n",
    "big = 0\n",
    "for i in list1:\n",
    "    if i > big:\n",
    "       big = i\n",
    "print(\"biggest element in array is\",big)"
   ]
  },
  {
   "cell_type": "code",
   "execution_count": 18,
   "id": "a40be406-7436-4e1b-b9ef-bb07aeeda273",
   "metadata": {},
   "outputs": [
    {
     "name": "stdout",
     "output_type": "stream",
     "text": [
      "1 2 3 4 5 6 7 8 9 "
     ]
    },
    {
     "data": {
      "text/plain": [
       "[3, 4, 5, 6, 7, 8, 9, 1, 2]"
      ]
     },
     "execution_count": 18,
     "metadata": {},
     "output_type": "execute_result"
    }
   ],
   "source": [
    "#3. Write a Python Program for array rotation?\n",
    "\n",
    "array = [1,2,3,4,5,6,7,8,9]\n",
    "shift = 2\n",
    "\n",
    "def print_array(array):\n",
    "    for i in range (0,len(array)):\n",
    "        print(array[i],end=\" \")\n",
    "def rot_array(array,shift):\n",
    "    for i in range(0,shift):\n",
    "        temp = array[0]\n",
    "        for j in range (0, len(array)-1):\n",
    "            array[j] = array[j+1]\n",
    "        array[len(array)-1] = temp\n",
    "    return array\n",
    "print_array(array)\n",
    "rot_array(array,shift)\n",
    "        "
   ]
  },
  {
   "cell_type": "code",
   "execution_count": 20,
   "id": "14a6234d-7315-494b-a1c3-fee20da07f50",
   "metadata": {},
   "outputs": [
    {
     "name": "stdout",
     "output_type": "stream",
     "text": [
      "pihu kanaha granth raghav 1 2 3 4 "
     ]
    },
    {
     "data": {
      "text/plain": [
       "[1, 2, 3, 4, 'pihu', 'kanaha', 'granth', 'raghav']"
      ]
     },
     "execution_count": 20,
     "metadata": {},
     "output_type": "execute_result"
    }
   ],
   "source": [
    "#4. Write a Python Program to Split the array and add the first part to the end?\n",
    "\n",
    "def split_array (array,split):  #split = index where we want to split\n",
    "    for i in range (0,split):\n",
    "        temp = array[0]\n",
    "        for j in range (0,len(array)-1):\n",
    "            array[j] = array[j+1]\n",
    "        array[len(array)-1] = temp\n",
    "    return array\n",
    "\n",
    "def print_array(array):\n",
    "    for i in range(0,len(array)):\n",
    "         print(array[i],end=\" \")\n",
    "\n",
    "array = [\"pihu\" , \"kanaha\" , \"granth\" , \"raghav\" , 1,2,3,4]\n",
    "split = 4\n",
    "print_array(array)\n",
    "split_array(array,split)\n",
    "                   "
   ]
  },
  {
   "cell_type": "code",
   "execution_count": 73,
   "id": "dd65808a-9ea0-4103-bac7-481a3ff3c4b7",
   "metadata": {},
   "outputs": [
    {
     "name": "stdout",
     "output_type": "stream",
     "text": [
      "not\n"
     ]
    }
   ],
   "source": [
    "#5. Write a Python Program to check if given array is Monotonic?\n",
    "# montonic array if array is continouslu increasing or continously decresing\n",
    "\n",
    "#a = int(input(\"enter the total number of elements of array\"))\n",
    "array = [5,4,3,2,1,8]\n",
    "inc = True\n",
    "dec = True\n",
    "#if not increasing\n",
    "for i in range (0,len(array)-1):\n",
    "    if array[i]>array[i+1]:\n",
    "        inc = False\n",
    "#if not decreasing\n",
    "for i in range (0,len(array)-1):\n",
    "    if array[i]<array[i+1]:\n",
    "        dec = False\n",
    "    \n",
    "\n",
    "if inc == True or dec == True:\n",
    "    print(\"monotonic\")\n",
    "else:\n",
    "    print(\"not\")\n"
   ]
  },
  {
   "cell_type": "code",
   "execution_count": null,
   "id": "40515443-a915-400e-859f-92cb6cd882ef",
   "metadata": {},
   "outputs": [],
   "source": []
  }
 ],
 "metadata": {
  "kernelspec": {
   "display_name": "Python 3 (ipykernel)",
   "language": "python",
   "name": "python3"
  },
  "language_info": {
   "codemirror_mode": {
    "name": "ipython",
    "version": 3
   },
   "file_extension": ".py",
   "mimetype": "text/x-python",
   "name": "python",
   "nbconvert_exporter": "python",
   "pygments_lexer": "ipython3",
   "version": "3.9.12"
  }
 },
 "nbformat": 4,
 "nbformat_minor": 5
}
